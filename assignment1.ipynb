{
 "cells": [
  {
   "cell_type": "markdown",
   "metadata": {
    "collapsed": true
   },
   "source": [
    "## Part 1: The Doomsday Algorithm\n",
    "\n",
    "The Doomsday algorithm, devised by mathematician J. H. Conway, computes the day of the week any given date fell on. The algorithm is designed to be simple enough to memorize and use for mental calculation.\n",
    "\n",
    "__Example.__ With the algorithm, we can compute that July 4, 1776 (the day the United States declared independence from Great Britain) was a Thursday.\n",
    "\n",
    "The algorithm is based on the fact that for any year, several dates always fall on the same day of the week, called the <em style=\"color:#F00\">doomsday</em> for the year. These dates include 4/4, 6/6, 8/8, 10/10, and 12/12.\n",
    "\n",
    "__Example.__ The doomsday for 2016 is Monday, so in 2016 the dates above all fell on Mondays. The doomsday for 2017 is Tuesday, so in 2017 the dates above will all fall on Tuesdays.\n",
    "\n",
    "The doomsday algorithm has three major steps:\n",
    "\n",
    "1. Compute the anchor day for the target century.\n",
    "2. Compute the doomsday for the target year based on the anchor day.\n",
    "3. Determine the day of week for the target date by counting the number of days to the nearest doomsday.\n",
    "\n",
    "Each step is explained in detail below."
   ]
  },
  {
   "cell_type": "markdown",
   "metadata": {},
   "source": [
    "### The Anchor Day\n",
    "\n",
    "The doomsday for the first year in a century is called the <em style=\"color:#F00\">anchor day</em> for that century. The anchor day is needed to compute the doomsday for any other year in that century. The anchor day for a century $c$ can be computed with the formula:\n",
    "$$\n",
    "a = \\bigl( 5 (c \\bmod 4) + 2 \\bigr) \\bmod 7\n",
    "$$\n",
    "The result $a$ corresponds to a day of the week, starting with $0$ for Sunday and ending with $6$ for Saturday.\n",
    "\n",
    "__Note.__ The modulo operation $(x \\bmod y)$ finds the remainder after dividing $x$ by $y$. For instance, $12 \\bmod 3 = 0$ since the remainder after dividing $12$ by $3$ is $0$. Similarly, $11 \\bmod 7 = 4$, since the remainder after dividing $11$ by $7$ is $4$.\n",
    "\n",
    "__Example.__ Suppose the target year is 1954, so the century is $c = 19$. Plugging this into the formula gives\n",
    "$$a = \\bigl( 5 (19 \\bmod 4) + 2 \\bigr) \\bmod 7 = \\bigl( 5(3) + 2 \\bigr) \\bmod 7 = 3.$$\n",
    "In other words, the anchor day for 1900-1999 is Wednesday, which is also the doomsday for 1900.\n",
    "\n",
    "__Exercise 1.1.__ Write a function that accepts a year as input and computes the anchor day for that year's century. The modulo operator `%` and functions in the `math` module may be useful. Document your function with a docstring and test your function for a few different years.  Do this in a new cell below this one."
   ]
  },
  {
   "cell_type": "code",
   "execution_count": 1,
   "metadata": {
    "collapsed": true
   },
   "outputs": [],
   "source": [
    "def anchor(year):\n",
    "    \"\"\"\n",
    "    This function return the anchor day for the century of input year\n",
    "    Input; Integer\n",
    "    Outout: Integer\n",
    "    \"\"\"\n",
    "    import math\n",
    "    c = math.floor(year/100)\n",
    "    a =int((5 * (c % 4) + 2) % 7)\n",
    "    return a"
   ]
  },
  {
   "cell_type": "code",
   "execution_count": 24,
   "metadata": {
    "collapsed": false
   },
   "outputs": [
    {
     "data": {
      "text/plain": [
       "3"
      ]
     },
     "execution_count": 24,
     "metadata": {},
     "output_type": "execute_result"
    }
   ],
   "source": [
    "anchor(1954)"
   ]
  },
  {
   "cell_type": "code",
   "execution_count": 25,
   "metadata": {
    "collapsed": false
   },
   "outputs": [
    {
     "data": {
      "text/plain": [
       "2"
      ]
     },
     "execution_count": 25,
     "metadata": {},
     "output_type": "execute_result"
    }
   ],
   "source": [
    "anchor(1)"
   ]
  },
  {
   "cell_type": "code",
   "execution_count": 26,
   "metadata": {
    "collapsed": false
   },
   "outputs": [
    {
     "data": {
      "text/plain": [
       "3"
      ]
     },
     "execution_count": 26,
     "metadata": {},
     "output_type": "execute_result"
    }
   ],
   "source": [
    "anchor(-1)"
   ]
  },
  {
   "cell_type": "markdown",
   "metadata": {},
   "source": [
    "### The Doomsday\n",
    "\n",
    "Once the anchor day is known, let $y$ be the last two digits of the target year. Then the doomsday for the target year can be computed with the formula:\n",
    "$$d = \\left(y + \\left\\lfloor\\frac{y}{4}\\right\\rfloor + a\\right) \\bmod 7$$\n",
    "The result $d$ corresponds to a day of the week.\n",
    "\n",
    "__Note.__ The floor operation $\\lfloor x \\rfloor$ rounds $x$ down to the nearest integer. For instance, $\\lfloor 3.1 \\rfloor = 3$ and $\\lfloor 3.8 \\rfloor = 3$.\n",
    "\n",
    "__Example.__ Again suppose the target year is 1954. Then the anchor day is $a = 3$, and $y = 54$, so the formula gives\n",
    "$$\n",
    "d = \\left(54 + \\left\\lfloor\\frac{54}{4}\\right\\rfloor + 3\\right) \\bmod 7 = (54 + 13 + 3) \\bmod 7 = 0.\n",
    "$$\n",
    "Thus the doomsday for 1954 is Sunday.\n",
    "\n",
    "__Exercise 1.2.__ Write a function that accepts a year as input and computes the doomsday for that year. Your function may need to call the function you wrote in exercise 1.1. Make sure to document and test your function."
   ]
  },
  {
   "cell_type": "code",
   "execution_count": 4,
   "metadata": {
    "collapsed": true
   },
   "outputs": [],
   "source": [
    "def doomsday(year):\n",
    "    \"\"\"\n",
    "    This function return the doomsday of the year input\n",
    "    Input: integer\n",
    "    Output: integer\n",
    "    \"\"\"\n",
    "    import math\n",
    "    c = math.floor(year/100)\n",
    "    a = anchor(year)\n",
    "    y = year - c*100\n",
    "    d = (y + math.floor(y/4) + a) % 7\n",
    "    return int(d)"
   ]
  },
  {
   "cell_type": "code",
   "execution_count": 5,
   "metadata": {
    "collapsed": false
   },
   "outputs": [
    {
     "data": {
      "text/plain": [
       "0"
      ]
     },
     "execution_count": 5,
     "metadata": {},
     "output_type": "execute_result"
    }
   ],
   "source": [
    "doomsday(1954)"
   ]
  },
  {
   "cell_type": "markdown",
   "metadata": {},
   "source": [
    "### The Day of Week\n",
    "\n",
    "The final step in the Doomsday algorithm is to count the number of days between the target date and a nearby doomsday, modulo 7. This gives the day of the week.\n",
    "\n",
    "Every month has at least one doomsday:\n",
    "* (regular years) 1/10, 2/28\n",
    "* (leap years) 1/11, 2/29\n",
    "* 3/21, 4/4, 5/9, 6/6, 7/11, 8/8, 9/5, 10/10, 11/7, 12/12\n",
    "\n",
    "__Example.__ Suppose we want to find the day of the week for 7/21/1954. The doomsday for 1954 is Sunday, and a nearby doomsday is 7/11. There are 10 days in July between 7/11 and 7/21. Since $10 \\bmod 7 = 3$, the date 7/21/1954 falls 3 days after a Sunday, on a Wednesday.\n",
    "\n",
    "__Exercise 1.3.__ Write a function to determine the day of the week for a given day, month, and year. Be careful of leap years! Your function should return a string such as \"Thursday\" rather than a number. As usual, document and test your code."
   ]
  },
  {
   "cell_type": "code",
   "execution_count": 6,
   "metadata": {
    "collapsed": false
   },
   "outputs": [],
   "source": [
    "def leapornot(year):\n",
    "    \"\"\"\n",
    "    This fuction check if the year input is leap year\n",
    "    Input: integer\n",
    "    Output: True or False\n",
    "    \"\"\"\n",
    "    e = year % 4\n",
    "    if e != 0:\n",
    "        flag_leap = False\n",
    "    if e == 0:\n",
    "        if year % 100 == 0:\n",
    "            if year % 400 == 0:\n",
    "                flag_leap = True\n",
    "            else:\n",
    "                flag_leap = False\n",
    "        else:\n",
    "            flag_leap = True\n",
    "    return flag_leap"
   ]
  },
  {
   "cell_type": "code",
   "execution_count": 24,
   "metadata": {
    "collapsed": false
   },
   "outputs": [
    {
     "data": {
      "text/plain": [
       "False"
      ]
     },
     "execution_count": 24,
     "metadata": {},
     "output_type": "execute_result"
    }
   ],
   "source": [
    "leapornot(2100)"
   ]
  },
  {
   "cell_type": "code",
   "execution_count": 25,
   "metadata": {
    "collapsed": false
   },
   "outputs": [
    {
     "data": {
      "text/plain": [
       "True"
      ]
     },
     "execution_count": 25,
     "metadata": {},
     "output_type": "execute_result"
    }
   ],
   "source": [
    "leapornot(2008)"
   ]
  },
  {
   "cell_type": "code",
   "execution_count": 7,
   "metadata": {
    "collapsed": true
   },
   "outputs": [],
   "source": [
    "def day_of_week(date):\n",
    "    \"\"\"\n",
    "    This function is to find the day of week for a specific day \n",
    "    Input: A list of three integers: year, month, day\n",
    "    Output \n",
    "    \"\"\"\n",
    "    leap = [11, 29, 21, 4, 9, 6, 11, 8, 5, 10, 7, 12]\n",
    "    regular = [10, 28, 21, 4, 9, 6, 11, 8, 5, 10, 7, 12]\n",
    "    weekday = [\"Sunday\", \"Monday\", \"Tuesday\", \"Wednesday\", \"Thursday\", \"Friday\", \"Saturday\"]\n",
    "    d = doomsday(date[0])\n",
    "    flag_leap = leapornot(date[0])\n",
    "    if flag_leap:\n",
    "        a = leap[(date[1]-1)]\n",
    "        b = (date[2] - a) % 7\n",
    "        c = (d + b) % 7\n",
    "    else:\n",
    "        a = regular[(date[1]-1)]\n",
    "        b = (date[2] - a) % 7\n",
    "        c = (d + b) % 7\n",
    "    return weekday[int(c)]"
   ]
  },
  {
   "cell_type": "code",
   "execution_count": 8,
   "metadata": {
    "collapsed": false
   },
   "outputs": [
    {
     "data": {
      "text/plain": [
       "'Wednesday'"
      ]
     },
     "execution_count": 8,
     "metadata": {},
     "output_type": "execute_result"
    }
   ],
   "source": [
    "date = [1954,7,21]\n",
    "day_of_week(date)"
   ]
  },
  {
   "cell_type": "markdown",
   "metadata": {},
   "source": [
    "__Exercise 1.4.__ How many times did Friday the 13th occur in the years 1900-1999? Does this number seem to be similar to other centuries?"
   ]
  },
  {
   "cell_type": "code",
   "execution_count": 9,
   "metadata": {
    "collapsed": true
   },
   "outputs": [],
   "source": [
    "def num_Fri13(year):\n",
    "    \"\"\"\n",
    "    This function is to count the number of Friday the 13th occuring in the year input\n",
    "    Input: integer\n",
    "    Output: integer\n",
    "    \"\"\"\n",
    "    a = []\n",
    "    b = range(1,13)\n",
    "    for i in b:\n",
    "        a.append([year, i, 13])\n",
    "    w = [day_of_week(s) for s in a]\n",
    "    n = w.count(\"Friday\")\n",
    "    return n"
   ]
  },
  {
   "cell_type": "code",
   "execution_count": 10,
   "metadata": {
    "collapsed": false
   },
   "outputs": [],
   "source": [
    "def Num(century):\n",
    "    \"\"\"\n",
    "    This function is to count the number of Friday the 13th occuring in the century input\n",
    "    Input: integer\n",
    "    Output: integer\n",
    "    \"\"\"\n",
    "    years = [s + century*100 for s in range(100)]\n",
    "    N = [num_Fri13(s) for s in years]\n",
    "    return sum(N)"
   ]
  },
  {
   "cell_type": "code",
   "execution_count": 30,
   "metadata": {
    "collapsed": false
   },
   "outputs": [
    {
     "data": {
      "text/plain": [
       "[172,\n",
       " 172,\n",
       " 172,\n",
       " 172,\n",
       " 172,\n",
       " 172,\n",
       " 172,\n",
       " 172,\n",
       " 172,\n",
       " 172,\n",
       " 172,\n",
       " 172,\n",
       " 172,\n",
       " 172,\n",
       " 172,\n",
       " 172,\n",
       " 172,\n",
       " 172,\n",
       " 172,\n",
       " 172]"
      ]
     },
     "execution_count": 30,
     "metadata": {},
     "output_type": "execute_result"
    }
   ],
   "source": [
    "[Num(s) for s in range(1,21)]"
   ]
  },
  {
   "cell_type": "markdown",
   "metadata": {},
   "source": [
    "The number is the same in different centuries."
   ]
  },
  {
   "cell_type": "markdown",
   "metadata": {},
   "source": [
    "__Exercise 1.5.__ How many times did Friday the 13th occur between the year 2000 and today?"
   ]
  },
  {
   "cell_type": "markdown",
   "metadata": {},
   "source": [
    "Firstly, calculate the number of 2000-2016"
   ]
  },
  {
   "cell_type": "code",
   "execution_count": 33,
   "metadata": {
    "collapsed": false
   },
   "outputs": [
    {
     "data": {
      "text/plain": [
       "[1, 2, 2, 1, 2, 1, 2, 2, 1, 3, 1, 1, 3, 2, 1, 3, 1]"
      ]
     },
     "execution_count": 33,
     "metadata": {},
     "output_type": "execute_result"
    }
   ],
   "source": [
    "Ns = [num_Fri13(s) for s in range(2000,2017)]\n",
    "Ns"
   ]
  },
  {
   "cell_type": "markdown",
   "metadata": {},
   "source": [
    "Today is 2017-1-18 so for year 2017 there is only 1 13th. We just need to check whether that day is Friday. After checking calender, we find out that 2017-1-13 is a Friday. So the total number of Friday the 13th occuring between the year 2000 and today is"
   ]
  },
  {
   "cell_type": "code",
   "execution_count": 34,
   "metadata": {
    "collapsed": false
   },
   "outputs": [
    {
     "data": {
      "text/plain": [
       "30"
      ]
     },
     "execution_count": 34,
     "metadata": {},
     "output_type": "execute_result"
    }
   ],
   "source": [
    "sum(Ns)+1"
   ]
  },
  {
   "cell_type": "markdown",
   "metadata": {},
   "source": [
    "## Part 2: 1978 Birthdays\n",
    "\n",
    "__Exercise 2.1.__ The file `birthdays.txt` contains the numberof births in the United States for each day in 1978. Inspect the file to determine the format. Note that columns are separated by the tab c haracter, which can be entered in Python as `\\t`. Write a function that uses iterators and list comprehensions with the string methods `split()` and `strip()` to  convert each line of data to the list format\n",
    "\n",
    "```Python\n",
    "[month, day, year, count]\n",
    "```\n",
    "The elements of this list should be integers, not strings. The function `read_birthdays` provided below will help you load the file."
   ]
  },
  {
   "cell_type": "code",
   "execution_count": 42,
   "metadata": {
    "collapsed": true
   },
   "outputs": [],
   "source": [
    "def read_birthdays(file_path):\n",
    "    \"\"\"Read the contents of the birthdays file into a string.\n",
    "    \n",
    "    Arguments:\n",
    "        file_path (string): The path to the birthdays file.\n",
    "        \n",
    "    Returns:\n",
    "        string: The contents of the birthdays file.\n",
    "    \"\"\"\n",
    "    with open(file_path) as file:\n",
    "        return file.read()"
   ]
  },
  {
   "cell_type": "code",
   "execution_count": 43,
   "metadata": {
    "collapsed": true
   },
   "outputs": [],
   "source": [
    "def split_birth(data,x):\n",
    "    \"\"\"\n",
    "    This function is to split this data into list\n",
    "    \"\"\"\n",
    "    x = data[x]\n",
    "    s = x.split('\\t')[0].split('/')\n",
    "    s[2]='19'+s[2]\n",
    "    s.append(x.split('\\t')[1])\n",
    "    for p in range(len(s)):\n",
    "        s[p]=int(s[p])\n",
    "    return s"
   ]
  },
  {
   "cell_type": "code",
   "execution_count": 44,
   "metadata": {
    "collapsed": true
   },
   "outputs": [],
   "source": [
    "def convert_birthdays(file_path,start):\n",
    "    \"\"\"\n",
    "    This function is to delete lines which are blank or descrbing data set\n",
    "    \"\"\"\n",
    "    birthdays=read_birthdays(file_path).strip().split('\\n')\n",
    "    return [split_birth(birthdays,x) for x in range(start,len(birthdays))]"
   ]
  },
  {
   "cell_type": "code",
   "execution_count": 29,
   "metadata": {
    "collapsed": false
   },
   "outputs": [
    {
     "data": {
      "text/plain": [
       "[[1, 1, 1978, 7701],\n",
       " [1, 2, 1978, 7527],\n",
       " [1, 3, 1978, 8825],\n",
       " [1, 4, 1978, 8859],\n",
       " [1, 5, 1978, 9043],\n",
       " [1, 6, 1978, 9208],\n",
       " [1, 7, 1978, 8084],\n",
       " [1, 8, 1978, 7611],\n",
       " [1, 9, 1978, 9172],\n",
       " [1, 10, 1978, 9089],\n",
       " [1, 11, 1978, 9210],\n",
       " [1, 12, 1978, 9259],\n",
       " [1, 13, 1978, 9138],\n",
       " [1, 14, 1978, 8299],\n",
       " [1, 15, 1978, 7771],\n",
       " [1, 16, 1978, 9458],\n",
       " [1, 17, 1978, 9339],\n",
       " [1, 18, 1978, 9120],\n",
       " [1, 19, 1978, 9226],\n",
       " [1, 20, 1978, 9305],\n",
       " [1, 21, 1978, 7954],\n",
       " [1, 22, 1978, 7560],\n",
       " [1, 23, 1978, 9252],\n",
       " [1, 24, 1978, 9416],\n",
       " [1, 25, 1978, 9090],\n",
       " [1, 26, 1978, 9387],\n",
       " [1, 27, 1978, 8983],\n",
       " [1, 28, 1978, 7946],\n",
       " [1, 29, 1978, 7527],\n",
       " [1, 30, 1978, 9184],\n",
       " [1, 31, 1978, 9152],\n",
       " [2, 1, 1978, 9159],\n",
       " [2, 2, 1978, 9218],\n",
       " [2, 3, 1978, 9167],\n",
       " [2, 4, 1978, 8065],\n",
       " [2, 5, 1978, 7804],\n",
       " [2, 6, 1978, 9225],\n",
       " [2, 7, 1978, 9328],\n",
       " [2, 8, 1978, 9139],\n",
       " [2, 9, 1978, 9247],\n",
       " [2, 10, 1978, 9527],\n",
       " [2, 11, 1978, 8144],\n",
       " [2, 12, 1978, 7950],\n",
       " [2, 13, 1978, 8966],\n",
       " [2, 14, 1978, 9859],\n",
       " [2, 15, 1978, 9285],\n",
       " [2, 16, 1978, 9103],\n",
       " [2, 17, 1978, 9238],\n",
       " [2, 18, 1978, 8167],\n",
       " [2, 19, 1978, 7695],\n",
       " [2, 20, 1978, 9021],\n",
       " [2, 21, 1978, 9252],\n",
       " [2, 22, 1978, 9335],\n",
       " [2, 23, 1978, 9268],\n",
       " [2, 24, 1978, 9552],\n",
       " [2, 25, 1978, 8313],\n",
       " [2, 26, 1978, 7881],\n",
       " [2, 27, 1978, 9262],\n",
       " [2, 28, 1978, 9705],\n",
       " [3, 1, 1978, 9132],\n",
       " [3, 2, 1978, 9304],\n",
       " [3, 3, 1978, 9431],\n",
       " [3, 4, 1978, 8008],\n",
       " [3, 5, 1978, 7791],\n",
       " [3, 6, 1978, 9294],\n",
       " [3, 7, 1978, 9573],\n",
       " [3, 8, 1978, 9212],\n",
       " [3, 9, 1978, 9218],\n",
       " [3, 10, 1978, 9583],\n",
       " [3, 11, 1978, 8144],\n",
       " [3, 12, 1978, 7870],\n",
       " [3, 13, 1978, 9022],\n",
       " [3, 14, 1978, 9525],\n",
       " [3, 15, 1978, 9284],\n",
       " [3, 16, 1978, 9327],\n",
       " [3, 17, 1978, 9480],\n",
       " [3, 18, 1978, 7965],\n",
       " [3, 19, 1978, 7729],\n",
       " [3, 20, 1978, 9135],\n",
       " [3, 21, 1978, 9663],\n",
       " [3, 22, 1978, 9307],\n",
       " [3, 23, 1978, 9159],\n",
       " [3, 24, 1978, 9157],\n",
       " [3, 25, 1978, 7874],\n",
       " [3, 26, 1978, 7589],\n",
       " [3, 27, 1978, 9100],\n",
       " [3, 28, 1978, 9293],\n",
       " [3, 29, 1978, 9195],\n",
       " [3, 30, 1978, 8902],\n",
       " [3, 31, 1978, 9318],\n",
       " [4, 1, 1978, 8069],\n",
       " [4, 2, 1978, 7691],\n",
       " [4, 3, 1978, 9114],\n",
       " [4, 4, 1978, 9439],\n",
       " [4, 5, 1978, 8852],\n",
       " [4, 6, 1978, 8969],\n",
       " [4, 7, 1978, 9077],\n",
       " [4, 8, 1978, 7890],\n",
       " [4, 9, 1978, 7445],\n",
       " [4, 10, 1978, 8870],\n",
       " [4, 11, 1978, 9023],\n",
       " [4, 12, 1978, 8606],\n",
       " [4, 13, 1978, 8724],\n",
       " [4, 14, 1978, 9012],\n",
       " [4, 15, 1978, 7527],\n",
       " [4, 16, 1978, 7193],\n",
       " [4, 17, 1978, 8702],\n",
       " [4, 18, 1978, 9205],\n",
       " [4, 19, 1978, 8720],\n",
       " [4, 20, 1978, 8582],\n",
       " [4, 21, 1978, 8892],\n",
       " [4, 22, 1978, 7787],\n",
       " [4, 23, 1978, 7304],\n",
       " [4, 24, 1978, 9017],\n",
       " [4, 25, 1978, 9077],\n",
       " [4, 26, 1978, 9019],\n",
       " [4, 27, 1978, 8839],\n",
       " [4, 28, 1978, 9047],\n",
       " [4, 29, 1978, 7750],\n",
       " [4, 30, 1978, 7135],\n",
       " [5, 1, 1978, 8900],\n",
       " [5, 2, 1978, 9422],\n",
       " [5, 3, 1978, 9051],\n",
       " [5, 4, 1978, 8672],\n",
       " [5, 5, 1978, 9101],\n",
       " [5, 6, 1978, 7718],\n",
       " [5, 7, 1978, 7388],\n",
       " [5, 8, 1978, 8987],\n",
       " [5, 9, 1978, 9307],\n",
       " [5, 10, 1978, 9273],\n",
       " [5, 11, 1978, 8903],\n",
       " [5, 12, 1978, 8975],\n",
       " [5, 13, 1978, 7762],\n",
       " [5, 14, 1978, 7382],\n",
       " [5, 15, 1978, 9195],\n",
       " [5, 16, 1978, 9200],\n",
       " [5, 17, 1978, 8913],\n",
       " [5, 18, 1978, 9044],\n",
       " [5, 19, 1978, 9000],\n",
       " [5, 20, 1978, 8064],\n",
       " [5, 21, 1978, 7570],\n",
       " [5, 22, 1978, 9089],\n",
       " [5, 23, 1978, 9210],\n",
       " [5, 24, 1978, 9196],\n",
       " [5, 25, 1978, 9180],\n",
       " [5, 26, 1978, 9514],\n",
       " [5, 27, 1978, 8005],\n",
       " [5, 28, 1978, 7781],\n",
       " [5, 29, 1978, 7780],\n",
       " [5, 30, 1978, 9630],\n",
       " [5, 31, 1978, 9600],\n",
       " [6, 1, 1978, 9435],\n",
       " [6, 2, 1978, 9303],\n",
       " [6, 3, 1978, 7971],\n",
       " [6, 4, 1978, 7399],\n",
       " [6, 5, 1978, 9127],\n",
       " [6, 6, 1978, 9606],\n",
       " [6, 7, 1978, 9328],\n",
       " [6, 8, 1978, 9075],\n",
       " [6, 9, 1978, 9362],\n",
       " [6, 10, 1978, 8040],\n",
       " [6, 11, 1978, 7581],\n",
       " [6, 12, 1978, 9201],\n",
       " [6, 13, 1978, 9264],\n",
       " [6, 14, 1978, 9216],\n",
       " [6, 15, 1978, 9175],\n",
       " [6, 16, 1978, 9350],\n",
       " [6, 17, 1978, 8233],\n",
       " [6, 18, 1978, 7777],\n",
       " [6, 19, 1978, 9543],\n",
       " [6, 20, 1978, 9672],\n",
       " [6, 21, 1978, 9266],\n",
       " [6, 22, 1978, 9405],\n",
       " [6, 23, 1978, 9598],\n",
       " [6, 24, 1978, 8122],\n",
       " [6, 25, 1978, 8091],\n",
       " [6, 26, 1978, 9348],\n",
       " [6, 27, 1978, 9857],\n",
       " [6, 28, 1978, 9701],\n",
       " [6, 29, 1978, 9630],\n",
       " [6, 30, 1978, 10080],\n",
       " [7, 1, 1978, 8209],\n",
       " [7, 2, 1978, 7976],\n",
       " [7, 3, 1978, 9284],\n",
       " [7, 4, 1978, 8433],\n",
       " [7, 5, 1978, 9675],\n",
       " [7, 6, 1978, 10184],\n",
       " [7, 7, 1978, 10241],\n",
       " [7, 8, 1978, 8773],\n",
       " [7, 9, 1978, 8102],\n",
       " [7, 10, 1978, 9877],\n",
       " [7, 11, 1978, 9852],\n",
       " [7, 12, 1978, 9705],\n",
       " [7, 13, 1978, 9984],\n",
       " [7, 14, 1978, 10438],\n",
       " [7, 15, 1978, 8859],\n",
       " [7, 16, 1978, 8416],\n",
       " [7, 17, 1978, 10026],\n",
       " [7, 18, 1978, 10357],\n",
       " [7, 19, 1978, 10015],\n",
       " [7, 20, 1978, 10386],\n",
       " [7, 21, 1978, 10332],\n",
       " [7, 22, 1978, 9062],\n",
       " [7, 23, 1978, 8563],\n",
       " [7, 24, 1978, 9960],\n",
       " [7, 25, 1978, 10349],\n",
       " [7, 26, 1978, 10091],\n",
       " [7, 27, 1978, 10192],\n",
       " [7, 28, 1978, 10307],\n",
       " [7, 29, 1978, 8677],\n",
       " [7, 30, 1978, 8486],\n",
       " [7, 31, 1978, 9890],\n",
       " [8, 1, 1978, 10145],\n",
       " [8, 2, 1978, 9824],\n",
       " [8, 3, 1978, 10128],\n",
       " [8, 4, 1978, 10051],\n",
       " [8, 5, 1978, 8738],\n",
       " [8, 6, 1978, 8442],\n",
       " [8, 7, 1978, 10206],\n",
       " [8, 8, 1978, 10442],\n",
       " [8, 9, 1978, 10142],\n",
       " [8, 10, 1978, 10284],\n",
       " [8, 11, 1978, 10162],\n",
       " [8, 12, 1978, 8951],\n",
       " [8, 13, 1978, 8532],\n",
       " [8, 14, 1978, 10127],\n",
       " [8, 15, 1978, 10502],\n",
       " [8, 16, 1978, 10053],\n",
       " [8, 17, 1978, 10377],\n",
       " [8, 18, 1978, 10355],\n",
       " [8, 19, 1978, 8904],\n",
       " [8, 20, 1978, 8477],\n",
       " [8, 21, 1978, 9967],\n",
       " [8, 22, 1978, 10229],\n",
       " [8, 23, 1978, 9900],\n",
       " [8, 24, 1978, 10152],\n",
       " [8, 25, 1978, 10173],\n",
       " [8, 26, 1978, 8782],\n",
       " [8, 27, 1978, 8453],\n",
       " [8, 28, 1978, 9998],\n",
       " [8, 29, 1978, 10387],\n",
       " [8, 30, 1978, 10063],\n",
       " [8, 31, 1978, 9849],\n",
       " [9, 1, 1978, 10114],\n",
       " [9, 2, 1978, 8580],\n",
       " [9, 3, 1978, 8355],\n",
       " [9, 4, 1978, 8481],\n",
       " [9, 5, 1978, 10023],\n",
       " [9, 6, 1978, 10703],\n",
       " [9, 7, 1978, 10292],\n",
       " [9, 8, 1978, 10371],\n",
       " [9, 9, 1978, 9023],\n",
       " [9, 10, 1978, 8630],\n",
       " [9, 11, 1978, 10154],\n",
       " [9, 12, 1978, 10425],\n",
       " [9, 13, 1978, 10149],\n",
       " [9, 14, 1978, 10265],\n",
       " [9, 15, 1978, 10265],\n",
       " [9, 16, 1978, 9170],\n",
       " [9, 17, 1978, 8711],\n",
       " [9, 18, 1978, 10304],\n",
       " [9, 19, 1978, 10711],\n",
       " [9, 20, 1978, 10488],\n",
       " [9, 21, 1978, 10499],\n",
       " [9, 22, 1978, 10349],\n",
       " [9, 23, 1978, 8735],\n",
       " [9, 24, 1978, 8647],\n",
       " [9, 25, 1978, 10414],\n",
       " [9, 26, 1978, 10498],\n",
       " [9, 27, 1978, 10344],\n",
       " [9, 28, 1978, 10175],\n",
       " [9, 29, 1978, 10368],\n",
       " [9, 30, 1978, 8648],\n",
       " [10, 1, 1978, 8686],\n",
       " [10, 2, 1978, 9927],\n",
       " [10, 3, 1978, 10378],\n",
       " [10, 4, 1978, 9928],\n",
       " [10, 5, 1978, 9949],\n",
       " [10, 6, 1978, 10052],\n",
       " [10, 7, 1978, 8605],\n",
       " [10, 8, 1978, 8377],\n",
       " [10, 9, 1978, 9765],\n",
       " [10, 10, 1978, 10351],\n",
       " [10, 11, 1978, 9873],\n",
       " [10, 12, 1978, 9824],\n",
       " [10, 13, 1978, 9755],\n",
       " [10, 14, 1978, 8554],\n",
       " [10, 15, 1978, 7873],\n",
       " [10, 16, 1978, 9531],\n",
       " [10, 17, 1978, 9938],\n",
       " [10, 18, 1978, 9388],\n",
       " [10, 19, 1978, 9502],\n",
       " [10, 20, 1978, 9625],\n",
       " [10, 21, 1978, 8411],\n",
       " [10, 22, 1978, 7936],\n",
       " [10, 23, 1978, 9425],\n",
       " [10, 24, 1978, 9576],\n",
       " [10, 25, 1978, 9328],\n",
       " [10, 26, 1978, 9501],\n",
       " [10, 27, 1978, 9537],\n",
       " [10, 28, 1978, 8415],\n",
       " [10, 29, 1978, 8155],\n",
       " [10, 30, 1978, 9457],\n",
       " [10, 31, 1978, 9333],\n",
       " [11, 1, 1978, 9321],\n",
       " [11, 2, 1978, 9245],\n",
       " [11, 3, 1978, 9774],\n",
       " [11, 4, 1978, 8246],\n",
       " [11, 5, 1978, 8011],\n",
       " [11, 6, 1978, 9507],\n",
       " [11, 7, 1978, 9769],\n",
       " [11, 8, 1978, 9501],\n",
       " [11, 9, 1978, 9609],\n",
       " [11, 10, 1978, 9652],\n",
       " [11, 11, 1978, 8352],\n",
       " [11, 12, 1978, 7967],\n",
       " [11, 13, 1978, 9606],\n",
       " [11, 14, 1978, 10014],\n",
       " [11, 15, 1978, 9536],\n",
       " [11, 16, 1978, 9568],\n",
       " [11, 17, 1978, 9835],\n",
       " [11, 18, 1978, 8432],\n",
       " [11, 19, 1978, 7868],\n",
       " [11, 20, 1978, 9592],\n",
       " [11, 21, 1978, 9950],\n",
       " [11, 22, 1978, 9548],\n",
       " [11, 23, 1978, 7915],\n",
       " [11, 24, 1978, 9037],\n",
       " [11, 25, 1978, 8275],\n",
       " [11, 26, 1978, 8068],\n",
       " [11, 27, 1978, 9825],\n",
       " [11, 28, 1978, 9814],\n",
       " [11, 29, 1978, 9438],\n",
       " [11, 30, 1978, 9396],\n",
       " [12, 1, 1978, 9592],\n",
       " [12, 2, 1978, 8528],\n",
       " [12, 3, 1978, 8196],\n",
       " [12, 4, 1978, 9767],\n",
       " [12, 5, 1978, 9881],\n",
       " [12, 6, 1978, 9402],\n",
       " [12, 7, 1978, 9480],\n",
       " [12, 8, 1978, 9398],\n",
       " [12, 9, 1978, 8335],\n",
       " [12, 10, 1978, 8093],\n",
       " [12, 11, 1978, 9686],\n",
       " [12, 12, 1978, 10063],\n",
       " [12, 13, 1978, 9509],\n",
       " [12, 14, 1978, 9524],\n",
       " [12, 15, 1978, 9951],\n",
       " [12, 16, 1978, 8507],\n",
       " [12, 17, 1978, 8172],\n",
       " [12, 18, 1978, 10196],\n",
       " [12, 19, 1978, 10605],\n",
       " [12, 20, 1978, 9998],\n",
       " [12, 21, 1978, 9398],\n",
       " [12, 22, 1978, 9008],\n",
       " [12, 23, 1978, 7939],\n",
       " [12, 24, 1978, 7964],\n",
       " [12, 25, 1978, 7846],\n",
       " [12, 26, 1978, 8902],\n",
       " [12, 27, 1978, 9907],\n",
       " [12, 28, 1978, 10177],\n",
       " [12, 29, 1978, 10401],\n",
       " [12, 30, 1978, 8474],\n",
       " [12, 31, 1978, 8028]]"
      ]
     },
     "execution_count": 29,
     "metadata": {},
     "output_type": "execute_result"
    }
   ],
   "source": [
    "birthdays=convert_birthdays('birthdays.txt',6)\n",
    "birthdays"
   ]
  },
  {
   "cell_type": "markdown",
   "metadata": {},
   "source": [
    "__Exercise 2.2.__ Which month had the most births in 1978? Which day of the week had the most births? Which day of the week had the fewest? What conclusions can you draw? You may find the `Counter` class in the `collections` module useful."
   ]
  },
  {
   "cell_type": "code",
   "execution_count": 30,
   "metadata": {
    "collapsed": false
   },
   "outputs": [],
   "source": [
    "def change_loc(x):\n",
    "    \"\"\"\n",
    "    This function changes the location of date to be year, month, day\n",
    "    \"\"\"\n",
    "    a = x[0]\n",
    "    b = x[1]\n",
    "    x[0] = x[2]\n",
    "    x[2] = b\n",
    "    x[1] = a\n",
    "    return x"
   ]
  },
  {
   "cell_type": "code",
   "execution_count": 31,
   "metadata": {
    "collapsed": true
   },
   "outputs": [],
   "source": [
    "new_birth = [change_loc(s) for s in birthdays]"
   ]
  },
  {
   "cell_type": "code",
   "execution_count": 73,
   "metadata": {
    "collapsed": false
   },
   "outputs": [
    {
     "data": {
      "text/plain": [
       "8"
      ]
     },
     "execution_count": 73,
     "metadata": {},
     "output_type": "execute_result"
    }
   ],
   "source": [
    "def sum_month(i):\n",
    "    a = 0\n",
    "    for j in range(365):\n",
    "        if new_birth[j][1] == i:\n",
    "            a = a + new_birth[j][3]\n",
    "        else:\n",
    "            a = a\n",
    "    return a\n",
    "mon = [sum_month(i) for i in range(1,13)]\n",
    "mon.index(max(mon))+1"
   ]
  },
  {
   "cell_type": "code",
   "execution_count": 67,
   "metadata": {
    "collapsed": false
   },
   "outputs": [
    {
     "data": {
      "text/plain": [
       "[421400, 487309, 504858, 493897, 493149, 500541, 432085]"
      ]
     },
     "execution_count": 67,
     "metadata": {},
     "output_type": "execute_result"
    }
   ],
   "source": [
    "weekdays = [day_of_week(s[:3]) for s in new_birth]\n",
    "weekday = [\"Sunday\", \"Monday\", \"Tuesday\", \"Wednesday\", \"Thursday\", \"Friday\", \"Saturday\"]\n",
    "def sum_week(i):\n",
    "    a = 0\n",
    "    for j in range(365):\n",
    "        if weekday[i] == weekdays[j]:\n",
    "            a = a + new_birth[j][3]\n",
    "        else:\n",
    "            a = a\n",
    "    return a\n",
    "week = [sum_week(i) for i in range(7)]\n",
    "week"
   ]
  },
  {
   "cell_type": "code",
   "execution_count": 70,
   "metadata": {
    "collapsed": false,
    "scrolled": true
   },
   "outputs": [
    {
     "data": {
      "text/plain": [
       "'Tuesday'"
      ]
     },
     "execution_count": 70,
     "metadata": {},
     "output_type": "execute_result"
    }
   ],
   "source": [
    "weekday[week.index(max(week))]"
   ]
  },
  {
   "cell_type": "code",
   "execution_count": 69,
   "metadata": {
    "collapsed": false
   },
   "outputs": [
    {
     "data": {
      "text/plain": [
       "'Sunday'"
      ]
     },
     "execution_count": 69,
     "metadata": {},
     "output_type": "execute_result"
    }
   ],
   "source": [
    "weekday[week.index(min(week))]"
   ]
  },
  {
   "cell_type": "markdown",
   "metadata": {},
   "source": [
    "We can draw conclusions:\n",
    "\n",
    "1. Tuesday had the most births\n",
    "2. Sunday had the fewest births\n",
    "3. August had the most births"
   ]
  },
  {
   "cell_type": "markdown",
   "metadata": {},
   "source": [
    "__Exercise 2.3.__ What would be an effective way to present the information in exercise 2.2? You don't need to write any code for this exercise, just discuss what you would do."
   ]
  },
  {
   "cell_type": "markdown",
   "metadata": {},
   "source": [
    "We do not care the specific numbers of birth of every month or weekdays. So we can\n",
    "\n",
    "1. Plot histogram\n",
    "2. Plot pie chart\n",
    "3. Make statistical summary\n"
   ]
  }
 ],
 "metadata": {
  "anaconda-cloud": {},
  "kernelspec": {
   "display_name": "Python 2",
   "language": "python",
   "name": "python2"
  },
  "language_info": {
   "codemirror_mode": {
    "name": "ipython",
    "version": 2
   },
   "file_extension": ".py",
   "mimetype": "text/x-python",
   "name": "python",
   "nbconvert_exporter": "python",
   "pygments_lexer": "ipython2",
   "version": "2.7.13"
  }
 },
 "nbformat": 4,
 "nbformat_minor": 2
}
